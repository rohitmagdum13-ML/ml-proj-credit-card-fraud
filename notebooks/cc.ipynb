{
 "cells": [
  {
   "cell_type": "markdown",
   "metadata": {},
   "source": [
    "# Credit Card Fraud Detection"
   ]
  },
  {
   "cell_type": "markdown",
   "metadata": {},
   "source": [
    "#### Importing the Libs"
   ]
  },
  {
   "cell_type": "code",
   "execution_count": 37,
   "metadata": {},
   "outputs": [],
   "source": [
    "import pandas as pd\n",
    "import numpy as np\n",
    "import matplotlib.pyplot as plt\n",
    "import seaborn as sns\n",
    "import optuna\n",
    "import warnings\n",
    "warnings.filterwarnings('ignore')\n",
    "\n",
    "from plotnine import ggplot, aes, geom_density, ggtitle, xlab, ylab, theme_minimal\n",
    "from sklearn.model_selection import train_test_split\n",
    "from sklearn.preprocessing import MinMaxScaler\n",
    "from statsmodels.stats.outliers_influence import variance_inflation_factor\n",
    "from scipy.stats import uniform, randint\n",
    "from joblib import dump\n",
    "\n",
    "from sklearn.linear_model import LogisticRegression\n",
    "from sklearn.metrics import classification_report\n",
    "from sklearn.ensemble import RandomForestClassifier\n",
    "from xgboost import XGBClassifier\n",
    "from sklearn.model_selection import RandomizedSearchCV\n",
    "from imblearn.under_sampling import RandomUnderSampler\n",
    "from imblearn.combine import SMOTETomek\n",
    "from sklearn.metrics import make_scorer, f1_score, roc_curve, roc_auc_score, auc\n",
    "from sklearn.model_selection import cross_val_score\n",
    "\n",
    "pd.set_option('display.max_columns', None)\n",
    "pd.set_option('display.float_format', lambda x: '{:.3f}'.format(x))\n",
    "np.set_printoptions(suppress=True)\n"
   ]
  },
  {
   "cell_type": "code",
   "execution_count": 38,
   "metadata": {},
   "outputs": [
    {
     "data": {
      "text/html": [
       "<div>\n",
       "<style scoped>\n",
       "    .dataframe tbody tr th:only-of-type {\n",
       "        vertical-align: middle;\n",
       "    }\n",
       "\n",
       "    .dataframe tbody tr th {\n",
       "        vertical-align: top;\n",
       "    }\n",
       "\n",
       "    .dataframe thead th {\n",
       "        text-align: right;\n",
       "    }\n",
       "</style>\n",
       "<table border=\"1\" class=\"dataframe\">\n",
       "  <thead>\n",
       "    <tr style=\"text-align: right;\">\n",
       "      <th></th>\n",
       "      <th>Time</th>\n",
       "      <th>V1</th>\n",
       "      <th>V2</th>\n",
       "      <th>V3</th>\n",
       "      <th>V4</th>\n",
       "      <th>V5</th>\n",
       "      <th>V6</th>\n",
       "      <th>V7</th>\n",
       "      <th>V8</th>\n",
       "      <th>V9</th>\n",
       "      <th>V10</th>\n",
       "      <th>V11</th>\n",
       "      <th>V12</th>\n",
       "      <th>V13</th>\n",
       "      <th>V14</th>\n",
       "      <th>V15</th>\n",
       "      <th>V16</th>\n",
       "      <th>V17</th>\n",
       "      <th>V18</th>\n",
       "      <th>V19</th>\n",
       "      <th>V20</th>\n",
       "      <th>V21</th>\n",
       "      <th>V22</th>\n",
       "      <th>V23</th>\n",
       "      <th>V24</th>\n",
       "      <th>V25</th>\n",
       "      <th>V26</th>\n",
       "      <th>V27</th>\n",
       "      <th>V28</th>\n",
       "      <th>Amount</th>\n",
       "      <th>Class</th>\n",
       "    </tr>\n",
       "  </thead>\n",
       "  <tbody>\n",
       "    <tr>\n",
       "      <th>0</th>\n",
       "      <td>0.000</td>\n",
       "      <td>-1.360</td>\n",
       "      <td>-0.073</td>\n",
       "      <td>2.536</td>\n",
       "      <td>1.378</td>\n",
       "      <td>-0.338</td>\n",
       "      <td>0.462</td>\n",
       "      <td>0.240</td>\n",
       "      <td>0.099</td>\n",
       "      <td>0.364</td>\n",
       "      <td>0.091</td>\n",
       "      <td>-0.552</td>\n",
       "      <td>-0.618</td>\n",
       "      <td>-0.991</td>\n",
       "      <td>-0.311</td>\n",
       "      <td>1.468</td>\n",
       "      <td>-0.470</td>\n",
       "      <td>0.208</td>\n",
       "      <td>0.026</td>\n",
       "      <td>0.404</td>\n",
       "      <td>0.251</td>\n",
       "      <td>-0.018</td>\n",
       "      <td>0.278</td>\n",
       "      <td>-0.110</td>\n",
       "      <td>0.067</td>\n",
       "      <td>0.129</td>\n",
       "      <td>-0.189</td>\n",
       "      <td>0.134</td>\n",
       "      <td>-0.021</td>\n",
       "      <td>149.620</td>\n",
       "      <td>0</td>\n",
       "    </tr>\n",
       "    <tr>\n",
       "      <th>1</th>\n",
       "      <td>0.000</td>\n",
       "      <td>1.192</td>\n",
       "      <td>0.266</td>\n",
       "      <td>0.166</td>\n",
       "      <td>0.448</td>\n",
       "      <td>0.060</td>\n",
       "      <td>-0.082</td>\n",
       "      <td>-0.079</td>\n",
       "      <td>0.085</td>\n",
       "      <td>-0.255</td>\n",
       "      <td>-0.167</td>\n",
       "      <td>1.613</td>\n",
       "      <td>1.065</td>\n",
       "      <td>0.489</td>\n",
       "      <td>-0.144</td>\n",
       "      <td>0.636</td>\n",
       "      <td>0.464</td>\n",
       "      <td>-0.115</td>\n",
       "      <td>-0.183</td>\n",
       "      <td>-0.146</td>\n",
       "      <td>-0.069</td>\n",
       "      <td>-0.226</td>\n",
       "      <td>-0.639</td>\n",
       "      <td>0.101</td>\n",
       "      <td>-0.340</td>\n",
       "      <td>0.167</td>\n",
       "      <td>0.126</td>\n",
       "      <td>-0.009</td>\n",
       "      <td>0.015</td>\n",
       "      <td>2.690</td>\n",
       "      <td>0</td>\n",
       "    </tr>\n",
       "    <tr>\n",
       "      <th>2</th>\n",
       "      <td>1.000</td>\n",
       "      <td>-1.358</td>\n",
       "      <td>-1.340</td>\n",
       "      <td>1.773</td>\n",
       "      <td>0.380</td>\n",
       "      <td>-0.503</td>\n",
       "      <td>1.800</td>\n",
       "      <td>0.791</td>\n",
       "      <td>0.248</td>\n",
       "      <td>-1.515</td>\n",
       "      <td>0.208</td>\n",
       "      <td>0.625</td>\n",
       "      <td>0.066</td>\n",
       "      <td>0.717</td>\n",
       "      <td>-0.166</td>\n",
       "      <td>2.346</td>\n",
       "      <td>-2.890</td>\n",
       "      <td>1.110</td>\n",
       "      <td>-0.121</td>\n",
       "      <td>-2.262</td>\n",
       "      <td>0.525</td>\n",
       "      <td>0.248</td>\n",
       "      <td>0.772</td>\n",
       "      <td>0.909</td>\n",
       "      <td>-0.689</td>\n",
       "      <td>-0.328</td>\n",
       "      <td>-0.139</td>\n",
       "      <td>-0.055</td>\n",
       "      <td>-0.060</td>\n",
       "      <td>378.660</td>\n",
       "      <td>0</td>\n",
       "    </tr>\n",
       "  </tbody>\n",
       "</table>\n",
       "</div>"
      ],
      "text/plain": [
       "   Time     V1     V2    V3    V4     V5     V6     V7    V8     V9    V10  \\\n",
       "0 0.000 -1.360 -0.073 2.536 1.378 -0.338  0.462  0.240 0.099  0.364  0.091   \n",
       "1 0.000  1.192  0.266 0.166 0.448  0.060 -0.082 -0.079 0.085 -0.255 -0.167   \n",
       "2 1.000 -1.358 -1.340 1.773 0.380 -0.503  1.800  0.791 0.248 -1.515  0.208   \n",
       "\n",
       "     V11    V12    V13    V14   V15    V16    V17    V18    V19    V20    V21  \\\n",
       "0 -0.552 -0.618 -0.991 -0.311 1.468 -0.470  0.208  0.026  0.404  0.251 -0.018   \n",
       "1  1.613  1.065  0.489 -0.144 0.636  0.464 -0.115 -0.183 -0.146 -0.069 -0.226   \n",
       "2  0.625  0.066  0.717 -0.166 2.346 -2.890  1.110 -0.121 -2.262  0.525  0.248   \n",
       "\n",
       "     V22    V23    V24    V25    V26    V27    V28  Amount  Class  \n",
       "0  0.278 -0.110  0.067  0.129 -0.189  0.134 -0.021 149.620      0  \n",
       "1 -0.639  0.101 -0.340  0.167  0.126 -0.009  0.015   2.690      0  \n",
       "2  0.772  0.909 -0.689 -0.328 -0.139 -0.055 -0.060 378.660      0  "
      ]
     },
     "execution_count": 38,
     "metadata": {},
     "output_type": "execute_result"
    }
   ],
   "source": [
    "df_path = r\"D:\\ML\\Classification\\Credit_card_fraud_detection\\data\\creditcard.csv\"\n",
    "\n",
    "df = pd.read_csv(df_path)\n",
    "\n",
    "df.head(3)"
   ]
  },
  {
   "cell_type": "code",
   "execution_count": 39,
   "metadata": {},
   "outputs": [
    {
     "name": "stdout",
     "output_type": "stream",
     "text": [
      "\n",
      "Shape of the dataset (rows, columns):\n",
      "(284807, 31)\n"
     ]
    }
   ],
   "source": [
    "print(\"\\nShape of the dataset (rows, columns):\")\n",
    "print(df.shape)"
   ]
  },
  {
   "cell_type": "code",
   "execution_count": 40,
   "metadata": {},
   "outputs": [
    {
     "name": "stdout",
     "output_type": "stream",
     "text": [
      "\n",
      "Columns in the dataset:\n",
      "Index(['Time', 'V1', 'V2', 'V3', 'V4', 'V5', 'V6', 'V7', 'V8', 'V9', 'V10',\n",
      "       'V11', 'V12', 'V13', 'V14', 'V15', 'V16', 'V17', 'V18', 'V19', 'V20',\n",
      "       'V21', 'V22', 'V23', 'V24', 'V25', 'V26', 'V27', 'V28', 'Amount',\n",
      "       'Class'],\n",
      "      dtype='object')\n"
     ]
    }
   ],
   "source": [
    "print(\"\\nColumns in the dataset:\")\n",
    "print(df.columns)"
   ]
  },
  {
   "cell_type": "code",
   "execution_count": 41,
   "metadata": {},
   "outputs": [
    {
     "name": "stdout",
     "output_type": "stream",
     "text": [
      "\n",
      "Dropping the 'Time' column...\n",
      "'Time' column dropped successfully!\n",
      "\n",
      "Data types of the columns:\n",
      "V1        float64\n",
      "V2        float64\n",
      "V3        float64\n",
      "V4        float64\n",
      "V5        float64\n",
      "V6        float64\n",
      "V7        float64\n",
      "V8        float64\n",
      "V9        float64\n",
      "V10       float64\n",
      "V11       float64\n",
      "V12       float64\n",
      "V13       float64\n",
      "V14       float64\n",
      "V15       float64\n",
      "V16       float64\n",
      "V17       float64\n",
      "V18       float64\n",
      "V19       float64\n",
      "V20       float64\n",
      "V21       float64\n",
      "V22       float64\n",
      "V23       float64\n",
      "V24       float64\n",
      "V25       float64\n",
      "V26       float64\n",
      "V27       float64\n",
      "V28       float64\n",
      "Amount    float64\n",
      "Class       int64\n",
      "dtype: object\n"
     ]
    }
   ],
   "source": [
    "print(\"\\nDropping the 'Time' column...\")\n",
    "df.drop(\"Time\", inplace=True, axis=\"columns\")\n",
    "print(\"'Time' column dropped successfully!\")\n",
    "\n",
    "\n",
    "print(\"\\nData types of the columns:\")\n",
    "print(df.dtypes)"
   ]
  },
  {
   "cell_type": "markdown",
   "metadata": {},
   "source": [
    "### Data Cleaning"
   ]
  },
  {
   "cell_type": "code",
   "execution_count": 42,
   "metadata": {},
   "outputs": [
    {
     "name": "stdout",
     "output_type": "stream",
     "text": [
      "V1        0\n",
      "V2        0\n",
      "V3        0\n",
      "V4        0\n",
      "V5        0\n",
      "V6        0\n",
      "V7        0\n",
      "V8        0\n",
      "V9        0\n",
      "V10       0\n",
      "V11       0\n",
      "V12       0\n",
      "V13       0\n",
      "V14       0\n",
      "V15       0\n",
      "V16       0\n",
      "V17       0\n",
      "V18       0\n",
      "V19       0\n",
      "V20       0\n",
      "V21       0\n",
      "V22       0\n",
      "V23       0\n",
      "V24       0\n",
      "V25       0\n",
      "V26       0\n",
      "V27       0\n",
      "V28       0\n",
      "Amount    0\n",
      "Class     0\n",
      "dtype: int64\n"
     ]
    }
   ],
   "source": [
    "print(df.isna().sum())"
   ]
  },
  {
   "cell_type": "code",
   "execution_count": 43,
   "metadata": {},
   "outputs": [
    {
     "name": "stdout",
     "output_type": "stream",
     "text": [
      "\n",
      "Filtering fraud transactions...\n",
      "Number of fraud transactions: 492\n",
      "\n",
      "Filtering true transactions...\n",
      "Number of true transactions: 284315\n",
      "\n",
      "Sampling 50% of true transactions...\n",
      "Number of sampled true transactions: 28432\n",
      "\n",
      "Shape of the final dataset (rows, columns):\n",
      "(28924, 30)\n"
     ]
    }
   ],
   "source": [
    "# Filter out fraud transactions where \"Class\" is 1\n",
    "print(\"\\nFiltering fraud transactions...\")\n",
    "df_fraud_transaction = df[df[\"Class\"] == 1]\n",
    "print(f\"Number of fraud transactions: {df_fraud_transaction.shape[0]}\")\n",
    "\n",
    "# Filter out true transactions where \"Class\" is 0\n",
    "print(\"\\nFiltering true transactions...\")\n",
    "df_true_transaction = df[df[\"Class\"] == 0]\n",
    "print(f\"Number of true transactions: {df_true_transaction.shape[0]}\")\n",
    "\n",
    "# Randomly sample 10% of the true transactions\n",
    "print(\"\\nSampling 10% of true transactions...\")\n",
    "df_true_transaction = df_true_transaction.sample(frac=0.1, random_state=42)\n",
    "print(f\"Number of sampled true transactions: {df_true_transaction.shape[0]}\")\n",
    "\n",
    "data = pd.concat([df_true_transaction, df_fraud_transaction]).reset_index(drop=True)\n",
    "\n",
    "print(\"\\nShape of the final dataset (rows, columns):\")\n",
    "print(data.shape)\n",
    "\n"
   ]
  },
  {
   "cell_type": "code",
   "execution_count": 44,
   "metadata": {},
   "outputs": [
    {
     "name": "stdout",
     "output_type": "stream",
     "text": [
      "Percentage of Fraudulent Transactions: 1.70%\n"
     ]
    }
   ],
   "source": [
    "total_transactions = data.shape[0]\n",
    "\n",
    "fraud_transactions = data[data[\"Class\"] == 1].shape[0]\n",
    "\n",
    "fraud_percentage = (fraud_transactions / total_transactions) * 100\n",
    "\n",
    "print(f\"Percentage of Fraudulent Transactions: {fraud_percentage:.2f}%\")"
   ]
  },
  {
   "cell_type": "code",
   "execution_count": 45,
   "metadata": {},
   "outputs": [
    {
     "data": {
      "text/plain": [
       "count   28924.000\n",
       "mean       87.325\n",
       "std       226.178\n",
       "min         0.000\n",
       "25%         5.390\n",
       "50%        21.950\n",
       "75%        77.000\n",
       "max      8360.000\n",
       "Name: Amount, dtype: float64"
      ]
     },
     "execution_count": 45,
     "metadata": {},
     "output_type": "execute_result"
    }
   ],
   "source": [
    "data[\"Amount\"].describe()"
   ]
  },
  {
   "cell_type": "code",
   "execution_count": 46,
   "metadata": {},
   "outputs": [
    {
     "data": {
      "image/png": "[encoded data removed]",
      "text/plain": [
       "<Figure size 800x600 with 1 Axes>"
      ]
     },
     "metadata": {},
     "output_type": "display_data"
    }
   ],
   "source": [
    "# Plotting with Seaborn\n",
    "plt.figure(figsize=(8, 6))\n",
    "sns.countplot(data=data, x='Class', palette=['green', 'red'])\n",
    "\n",
    "# Adding titles and labels\n",
    "plt.title('Distribution of Fraudulent and Genuine Transactions', fontsize=14)\n",
    "plt.xticks([0, 1], ['Genuine (0)', 'Fraudulent (1)'], fontsize=12)\n",
    "plt.ylabel('Number of Transactions', fontsize=12)\n",
    "plt.xlabel('Class', fontsize=12)\n",
    "\n",
    "plt.show()"
   ]
  },
  {
   "cell_type": "markdown",
   "metadata": {},
   "source": [
    "### Feature Encoding"
   ]
  },
  {
   "cell_type": "code",
   "execution_count": 47,
   "metadata": {},
   "outputs": [
    {
     "data": {
      "text/html": [
       "<div>\n",
       "<style scoped>\n",
       "    .dataframe tbody tr th:only-of-type {\n",
       "        vertical-align: middle;\n",
       "    }\n",
       "\n",
       "    .dataframe tbody tr th {\n",
       "        vertical-align: top;\n",
       "    }\n",
       "\n",
       "    .dataframe thead th {\n",
       "        text-align: right;\n",
       "    }\n",
       "</style>\n",
       "<table border=\"1\" class=\"dataframe\">\n",
       "  <thead>\n",
       "    <tr style=\"text-align: right;\">\n",
       "      <th></th>\n",
       "      <th>V1</th>\n",
       "      <th>V2</th>\n",
       "      <th>V3</th>\n",
       "      <th>V4</th>\n",
       "      <th>V5</th>\n",
       "      <th>V6</th>\n",
       "      <th>V7</th>\n",
       "      <th>V8</th>\n",
       "      <th>V9</th>\n",
       "      <th>V10</th>\n",
       "      <th>V11</th>\n",
       "      <th>V12</th>\n",
       "      <th>V13</th>\n",
       "      <th>V14</th>\n",
       "      <th>V15</th>\n",
       "      <th>V16</th>\n",
       "      <th>V17</th>\n",
       "      <th>V18</th>\n",
       "      <th>V19</th>\n",
       "      <th>V20</th>\n",
       "      <th>V21</th>\n",
       "      <th>V22</th>\n",
       "      <th>V23</th>\n",
       "      <th>V24</th>\n",
       "      <th>V25</th>\n",
       "      <th>V26</th>\n",
       "      <th>V27</th>\n",
       "      <th>V28</th>\n",
       "      <th>Amount</th>\n",
       "      <th>Class</th>\n",
       "    </tr>\n",
       "  </thead>\n",
       "  <tbody>\n",
       "    <tr>\n",
       "      <th>count</th>\n",
       "      <td>28924.000</td>\n",
       "      <td>28924.000</td>\n",
       "      <td>28924.000</td>\n",
       "      <td>28924.000</td>\n",
       "      <td>28924.000</td>\n",
       "      <td>28924.000</td>\n",
       "      <td>28924.000</td>\n",
       "      <td>28924.000</td>\n",
       "      <td>28924.000</td>\n",
       "      <td>28924.000</td>\n",
       "      <td>28924.000</td>\n",
       "      <td>28924.000</td>\n",
       "      <td>28924.000</td>\n",
       "      <td>28924.000</td>\n",
       "      <td>28924.000</td>\n",
       "      <td>28924.000</td>\n",
       "      <td>28924.000</td>\n",
       "      <td>28924.000</td>\n",
       "      <td>28924.000</td>\n",
       "      <td>28924.000</td>\n",
       "      <td>28924.000</td>\n",
       "      <td>28924.000</td>\n",
       "      <td>28924.000</td>\n",
       "      <td>28924.000</td>\n",
       "      <td>28924.000</td>\n",
       "      <td>28924.000</td>\n",
       "      <td>28924.000</td>\n",
       "      <td>28924.000</td>\n",
       "      <td>28924.000</td>\n",
       "      <td>28924.000</td>\n",
       "    </tr>\n",
       "    <tr>\n",
       "      <th>mean</th>\n",
       "      <td>-0.067</td>\n",
       "      <td>0.063</td>\n",
       "      <td>-0.113</td>\n",
       "      <td>0.079</td>\n",
       "      <td>-0.036</td>\n",
       "      <td>-0.027</td>\n",
       "      <td>-0.092</td>\n",
       "      <td>0.015</td>\n",
       "      <td>-0.031</td>\n",
       "      <td>-0.087</td>\n",
       "      <td>0.060</td>\n",
       "      <td>-0.086</td>\n",
       "      <td>-0.002</td>\n",
       "      <td>-0.109</td>\n",
       "      <td>-0.002</td>\n",
       "      <td>-0.067</td>\n",
       "      <td>-0.099</td>\n",
       "      <td>-0.036</td>\n",
       "      <td>0.016</td>\n",
       "      <td>0.007</td>\n",
       "      <td>0.006</td>\n",
       "      <td>0.000</td>\n",
       "      <td>0.001</td>\n",
       "      <td>-0.005</td>\n",
       "      <td>-0.007</td>\n",
       "      <td>0.003</td>\n",
       "      <td>0.003</td>\n",
       "      <td>0.002</td>\n",
       "      <td>0.010</td>\n",
       "      <td>0.017</td>\n",
       "    </tr>\n",
       "    <tr>\n",
       "      <th>std</th>\n",
       "      <td>2.163</td>\n",
       "      <td>1.733</td>\n",
       "      <td>1.926</td>\n",
       "      <td>1.547</td>\n",
       "      <td>1.551</td>\n",
       "      <td>1.338</td>\n",
       "      <td>1.621</td>\n",
       "      <td>1.425</td>\n",
       "      <td>1.181</td>\n",
       "      <td>1.420</td>\n",
       "      <td>1.163</td>\n",
       "      <td>1.377</td>\n",
       "      <td>0.990</td>\n",
       "      <td>1.385</td>\n",
       "      <td>0.922</td>\n",
       "      <td>1.110</td>\n",
       "      <td>1.457</td>\n",
       "      <td>0.944</td>\n",
       "      <td>0.832</td>\n",
       "      <td>0.738</td>\n",
       "      <td>0.847</td>\n",
       "      <td>0.739</td>\n",
       "      <td>0.640</td>\n",
       "      <td>0.606</td>\n",
       "      <td>0.527</td>\n",
       "      <td>0.484</td>\n",
       "      <td>0.434</td>\n",
       "      <td>0.313</td>\n",
       "      <td>0.027</td>\n",
       "      <td>0.129</td>\n",
       "    </tr>\n",
       "    <tr>\n",
       "      <th>min</th>\n",
       "      <td>-33.404</td>\n",
       "      <td>-38.437</td>\n",
       "      <td>-31.104</td>\n",
       "      <td>-5.176</td>\n",
       "      <td>-27.737</td>\n",
       "      <td>-20.368</td>\n",
       "      <td>-43.557</td>\n",
       "      <td>-41.044</td>\n",
       "      <td>-13.434</td>\n",
       "      <td>-24.588</td>\n",
       "      <td>-3.423</td>\n",
       "      <td>-18.684</td>\n",
       "      <td>-3.642</td>\n",
       "      <td>-19.214</td>\n",
       "      <td>-4.499</td>\n",
       "      <td>-14.130</td>\n",
       "      <td>-25.163</td>\n",
       "      <td>-9.499</td>\n",
       "      <td>-4.367</td>\n",
       "      <td>-23.647</td>\n",
       "      <td>-22.798</td>\n",
       "      <td>-8.887</td>\n",
       "      <td>-30.270</td>\n",
       "      <td>-2.837</td>\n",
       "      <td>-6.429</td>\n",
       "      <td>-1.582</td>\n",
       "      <td>-9.544</td>\n",
       "      <td>-8.308</td>\n",
       "      <td>0.000</td>\n",
       "      <td>0.000</td>\n",
       "    </tr>\n",
       "    <tr>\n",
       "      <th>25%</th>\n",
       "      <td>-0.936</td>\n",
       "      <td>-0.595</td>\n",
       "      <td>-0.953</td>\n",
       "      <td>-0.821</td>\n",
       "      <td>-0.708</td>\n",
       "      <td>-0.779</td>\n",
       "      <td>-0.577</td>\n",
       "      <td>-0.206</td>\n",
       "      <td>-0.660</td>\n",
       "      <td>-0.559</td>\n",
       "      <td>-0.755</td>\n",
       "      <td>-0.426</td>\n",
       "      <td>-0.650</td>\n",
       "      <td>-0.455</td>\n",
       "      <td>-0.589</td>\n",
       "      <td>-0.495</td>\n",
       "      <td>-0.498</td>\n",
       "      <td>-0.516</td>\n",
       "      <td>-0.450</td>\n",
       "      <td>-0.213</td>\n",
       "      <td>-0.227</td>\n",
       "      <td>-0.550</td>\n",
       "      <td>-0.164</td>\n",
       "      <td>-0.357</td>\n",
       "      <td>-0.321</td>\n",
       "      <td>-0.327</td>\n",
       "      <td>-0.071</td>\n",
       "      <td>-0.053</td>\n",
       "      <td>0.001</td>\n",
       "      <td>0.000</td>\n",
       "    </tr>\n",
       "    <tr>\n",
       "      <th>50%</th>\n",
       "      <td>0.002</td>\n",
       "      <td>0.083</td>\n",
       "      <td>0.153</td>\n",
       "      <td>0.016</td>\n",
       "      <td>-0.059</td>\n",
       "      <td>-0.279</td>\n",
       "      <td>0.034</td>\n",
       "      <td>0.026</td>\n",
       "      <td>-0.058</td>\n",
       "      <td>-0.104</td>\n",
       "      <td>-0.011</td>\n",
       "      <td>0.136</td>\n",
       "      <td>-0.024</td>\n",
       "      <td>0.039</td>\n",
       "      <td>0.044</td>\n",
       "      <td>0.050</td>\n",
       "      <td>-0.068</td>\n",
       "      <td>-0.014</td>\n",
       "      <td>0.011</td>\n",
       "      <td>-0.062</td>\n",
       "      <td>-0.025</td>\n",
       "      <td>0.008</td>\n",
       "      <td>-0.010</td>\n",
       "      <td>0.039</td>\n",
       "      <td>0.014</td>\n",
       "      <td>-0.046</td>\n",
       "      <td>0.002</td>\n",
       "      <td>0.012</td>\n",
       "      <td>0.003</td>\n",
       "      <td>0.000</td>\n",
       "    </tr>\n",
       "    <tr>\n",
       "      <th>75%</th>\n",
       "      <td>1.306</td>\n",
       "      <td>0.838</td>\n",
       "      <td>1.003</td>\n",
       "      <td>0.791</td>\n",
       "      <td>0.622</td>\n",
       "      <td>0.396</td>\n",
       "      <td>0.574</td>\n",
       "      <td>0.339</td>\n",
       "      <td>0.590</td>\n",
       "      <td>0.442</td>\n",
       "      <td>0.778</td>\n",
       "      <td>0.612</td>\n",
       "      <td>0.654</td>\n",
       "      <td>0.485</td>\n",
       "      <td>0.662</td>\n",
       "      <td>0.515</td>\n",
       "      <td>0.402</td>\n",
       "      <td>0.494</td>\n",
       "      <td>0.471</td>\n",
       "      <td>0.138</td>\n",
       "      <td>0.192</td>\n",
       "      <td>0.527</td>\n",
       "      <td>0.152</td>\n",
       "      <td>0.434</td>\n",
       "      <td>0.342</td>\n",
       "      <td>0.248</td>\n",
       "      <td>0.095</td>\n",
       "      <td>0.081</td>\n",
       "      <td>0.009</td>\n",
       "      <td>0.000</td>\n",
       "    </tr>\n",
       "    <tr>\n",
       "      <th>max</th>\n",
       "      <td>2.420</td>\n",
       "      <td>22.058</td>\n",
       "      <td>3.893</td>\n",
       "      <td>12.700</td>\n",
       "      <td>29.162</td>\n",
       "      <td>16.411</td>\n",
       "      <td>21.445</td>\n",
       "      <td>20.007</td>\n",
       "      <td>10.371</td>\n",
       "      <td>12.340</td>\n",
       "      <td>12.019</td>\n",
       "      <td>4.122</td>\n",
       "      <td>3.734</td>\n",
       "      <td>6.090</td>\n",
       "      <td>3.881</td>\n",
       "      <td>5.562</td>\n",
       "      <td>8.538</td>\n",
       "      <td>4.244</td>\n",
       "      <td>5.572</td>\n",
       "      <td>13.658</td>\n",
       "      <td>27.203</td>\n",
       "      <td>8.362</td>\n",
       "      <td>17.752</td>\n",
       "      <td>4.016</td>\n",
       "      <td>5.852</td>\n",
       "      <td>3.517</td>\n",
       "      <td>9.880</td>\n",
       "      <td>15.870</td>\n",
       "      <td>1.000</td>\n",
       "      <td>1.000</td>\n",
       "    </tr>\n",
       "  </tbody>\n",
       "</table>\n",
       "</div>"
      ],
      "text/plain": [
       "             V1        V2        V3        V4        V5        V6        V7  \\\n",
       "count 28924.000 28924.000 28924.000 28924.000 28924.000 28924.000 28924.000   \n",
       "mean     -0.067     0.063    -0.113     0.079    -0.036    -0.027    -0.092   \n",
       "std       2.163     1.733     1.926     1.547     1.551     1.338     1.621   \n",
       "min     -33.404   -38.437   -31.104    -5.176   -27.737   -20.368   -43.557   \n",
       "25%      -0.936    -0.595    -0.953    -0.821    -0.708    -0.779    -0.577   \n",
       "50%       0.002     0.083     0.153     0.016    -0.059    -0.279     0.034   \n",
       "75%       1.306     0.838     1.003     0.791     0.622     0.396     0.574   \n",
       "max       2.420    22.058     3.893    12.700    29.162    16.411    21.445   \n",
       "\n",
       "             V8        V9       V10       V11       V12       V13       V14  \\\n",
       "count 28924.000 28924.000 28924.000 28924.000 28924.000 28924.000 28924.000   \n",
       "mean      0.015    -0.031    -0.087     0.060    -0.086    -0.002    -0.109   \n",
       "std       1.425     1.181     1.420     1.163     1.377     0.990     1.385   \n",
       "min     -41.044   -13.434   -24.588    -3.423   -18.684    -3.642   -19.214   \n",
       "25%      -0.206    -0.660    -0.559    -0.755    -0.426    -0.650    -0.455   \n",
       "50%       0.026    -0.058    -0.104    -0.011     0.136    -0.024     0.039   \n",
       "75%       0.339     0.590     0.442     0.778     0.612     0.654     0.485   \n",
       "max      20.007    10.371    12.340    12.019     4.122     3.734     6.090   \n",
       "\n",
       "            V15       V16       V17       V18       V19       V20       V21  \\\n",
       "count 28924.000 28924.000 28924.000 28924.000 28924.000 28924.000 28924.000   \n",
       "mean     -0.002    -0.067    -0.099    -0.036     0.016     0.007     0.006   \n",
       "std       0.922     1.110     1.457     0.944     0.832     0.738     0.847   \n",
       "min      -4.499   -14.130   -25.163    -9.499    -4.367   -23.647   -22.798   \n",
       "25%      -0.589    -0.495    -0.498    -0.516    -0.450    -0.213    -0.227   \n",
       "50%       0.044     0.050    -0.068    -0.014     0.011    -0.062    -0.025   \n",
       "75%       0.662     0.515     0.402     0.494     0.471     0.138     0.192   \n",
       "max       3.881     5.562     8.538     4.244     5.572    13.658    27.203   \n",
       "\n",
       "            V22       V23       V24       V25       V26       V27       V28  \\\n",
       "count 28924.000 28924.000 28924.000 28924.000 28924.000 28924.000 28924.000   \n",
       "mean      0.000     0.001    -0.005    -0.007     0.003     0.003     0.002   \n",
       "std       0.739     0.640     0.606     0.527     0.484     0.434     0.313   \n",
       "min      -8.887   -30.270    -2.837    -6.429    -1.582    -9.544    -8.308   \n",
       "25%      -0.550    -0.164    -0.357    -0.321    -0.327    -0.071    -0.053   \n",
       "50%       0.008    -0.010     0.039     0.014    -0.046     0.002     0.012   \n",
       "75%       0.527     0.152     0.434     0.342     0.248     0.095     0.081   \n",
       "max       8.362    17.752     4.016     5.852     3.517     9.880    15.870   \n",
       "\n",
       "         Amount     Class  \n",
       "count 28924.000 28924.000  \n",
       "mean      0.010     0.017  \n",
       "std       0.027     0.129  \n",
       "min       0.000     0.000  \n",
       "25%       0.001     0.000  \n",
       "50%       0.003     0.000  \n",
       "75%       0.009     0.000  \n",
       "max       1.000     1.000  "
      ]
     },
     "execution_count": 47,
     "metadata": {},
     "output_type": "execute_result"
    }
   ],
   "source": [
    "from sklearn.preprocessing import MinMaxScaler\n",
    "\n",
    "scaler = MinMaxScaler()\n",
    "\n",
    "cols_to_scale = [\"Amount\"]\n",
    "\n",
    "data[cols_to_scale] = scaler.fit_transform(data[cols_to_scale])\n",
    "\n",
    "data.describe()"
   ]
  },
  {
   "cell_type": "code",
   "execution_count": 48,
   "metadata": {},
   "outputs": [
    {
     "data": {
      "text/plain": [
       "count   28924.000\n",
       "mean        0.010\n",
       "std         0.027\n",
       "min         0.000\n",
       "25%         0.001\n",
       "50%         0.003\n",
       "75%         0.009\n",
       "max         1.000\n",
       "Name: Amount, dtype: float64"
      ]
     },
     "execution_count": 48,
     "metadata": {},
     "output_type": "execute_result"
    }
   ],
   "source": [
    "data.Amount.describe()"
   ]
  },
  {
   "cell_type": "markdown",
   "metadata": {},
   "source": [
    "### Drop Duplicates"
   ]
  },
  {
   "cell_type": "code",
   "execution_count": 49,
   "metadata": {},
   "outputs": [
    {
     "name": "stdout",
     "output_type": "stream",
     "text": [
      "\n",
      "Checking for duplicate rows in the dataset...\n",
      "Number of duplicate rows found: 228\n"
     ]
    }
   ],
   "source": [
    "print(\"\\nChecking for duplicate rows in the dataset...\")\n",
    "num_duplicates = data.duplicated().sum()\n",
    "print(f\"Number of duplicate rows found: {num_duplicates}\")"
   ]
  },
  {
   "cell_type": "code",
   "execution_count": 50,
   "metadata": {},
   "outputs": [
    {
     "name": "stdout",
     "output_type": "stream",
     "text": [
      "\n",
      "Shape of the dataset after removing duplicates (rows, columns):\n",
      "(28696, 30)\n"
     ]
    }
   ],
   "source": [
    "data.drop_duplicates(inplace=True)\n",
    "\n",
    "print(\"\\nShape of the dataset after removing duplicates (rows, columns):\")\n",
    "print(data.shape)"
   ]
  },
  {
   "cell_type": "markdown",
   "metadata": {},
   "source": [
    "### VIF to measure multicolinearity"
   ]
  },
  {
   "cell_type": "code",
   "execution_count": 51,
   "metadata": {},
   "outputs": [
    {
     "data": {
      "text/html": [
       "<div>\n",
       "<style scoped>\n",
       "    .dataframe tbody tr th:only-of-type {\n",
       "        vertical-align: middle;\n",
       "    }\n",
       "\n",
       "    .dataframe tbody tr th {\n",
       "        vertical-align: top;\n",
       "    }\n",
       "\n",
       "    .dataframe thead th {\n",
       "        text-align: right;\n",
       "    }\n",
       "</style>\n",
       "<table border=\"1\" class=\"dataframe\">\n",
       "  <thead>\n",
       "    <tr style=\"text-align: right;\">\n",
       "      <th></th>\n",
       "      <th>Columns</th>\n",
       "      <th>VIF</th>\n",
       "    </tr>\n",
       "  </thead>\n",
       "  <tbody>\n",
       "    <tr>\n",
       "      <th>0</th>\n",
       "      <td>V1</td>\n",
       "      <td>1.584</td>\n",
       "    </tr>\n",
       "    <tr>\n",
       "      <th>1</th>\n",
       "      <td>V2</td>\n",
       "      <td>3.001</td>\n",
       "    </tr>\n",
       "    <tr>\n",
       "      <th>2</th>\n",
       "      <td>V3</td>\n",
       "      <td>1.821</td>\n",
       "    </tr>\n",
       "    <tr>\n",
       "      <th>3</th>\n",
       "      <td>V4</td>\n",
       "      <td>1.259</td>\n",
       "    </tr>\n",
       "    <tr>\n",
       "      <th>4</th>\n",
       "      <td>V5</td>\n",
       "      <td>2.179</td>\n",
       "    </tr>\n",
       "    <tr>\n",
       "      <th>5</th>\n",
       "      <td>V6</td>\n",
       "      <td>1.283</td>\n",
       "    </tr>\n",
       "    <tr>\n",
       "      <th>6</th>\n",
       "      <td>V7</td>\n",
       "      <td>2.934</td>\n",
       "    </tr>\n",
       "    <tr>\n",
       "      <th>7</th>\n",
       "      <td>V8</td>\n",
       "      <td>1.160</td>\n",
       "    </tr>\n",
       "    <tr>\n",
       "      <th>8</th>\n",
       "      <td>V9</td>\n",
       "      <td>1.123</td>\n",
       "    </tr>\n",
       "    <tr>\n",
       "      <th>9</th>\n",
       "      <td>V10</td>\n",
       "      <td>1.592</td>\n",
       "    </tr>\n",
       "    <tr>\n",
       "      <th>10</th>\n",
       "      <td>V11</td>\n",
       "      <td>1.244</td>\n",
       "    </tr>\n",
       "    <tr>\n",
       "      <th>11</th>\n",
       "      <td>V12</td>\n",
       "      <td>1.684</td>\n",
       "    </tr>\n",
       "    <tr>\n",
       "      <th>12</th>\n",
       "      <td>V13</td>\n",
       "      <td>1.003</td>\n",
       "    </tr>\n",
       "    <tr>\n",
       "      <th>13</th>\n",
       "      <td>V14</td>\n",
       "      <td>1.808</td>\n",
       "    </tr>\n",
       "    <tr>\n",
       "      <th>14</th>\n",
       "      <td>V15</td>\n",
       "      <td>1.003</td>\n",
       "    </tr>\n",
       "    <tr>\n",
       "      <th>15</th>\n",
       "      <td>V16</td>\n",
       "      <td>1.461</td>\n",
       "    </tr>\n",
       "    <tr>\n",
       "      <th>16</th>\n",
       "      <td>V17</td>\n",
       "      <td>1.999</td>\n",
       "    </tr>\n",
       "    <tr>\n",
       "      <th>17</th>\n",
       "      <td>V18</td>\n",
       "      <td>1.209</td>\n",
       "    </tr>\n",
       "    <tr>\n",
       "      <th>18</th>\n",
       "      <td>V19</td>\n",
       "      <td>1.041</td>\n",
       "    </tr>\n",
       "    <tr>\n",
       "      <th>19</th>\n",
       "      <td>V20</td>\n",
       "      <td>1.499</td>\n",
       "    </tr>\n",
       "    <tr>\n",
       "      <th>20</th>\n",
       "      <td>V21</td>\n",
       "      <td>1.095</td>\n",
       "    </tr>\n",
       "    <tr>\n",
       "      <th>21</th>\n",
       "      <td>V22</td>\n",
       "      <td>1.034</td>\n",
       "    </tr>\n",
       "    <tr>\n",
       "      <th>22</th>\n",
       "      <td>V23</td>\n",
       "      <td>1.130</td>\n",
       "    </tr>\n",
       "    <tr>\n",
       "      <th>23</th>\n",
       "      <td>V24</td>\n",
       "      <td>1.003</td>\n",
       "    </tr>\n",
       "    <tr>\n",
       "      <th>24</th>\n",
       "      <td>V25</td>\n",
       "      <td>1.029</td>\n",
       "    </tr>\n",
       "    <tr>\n",
       "      <th>25</th>\n",
       "      <td>V26</td>\n",
       "      <td>1.002</td>\n",
       "    </tr>\n",
       "    <tr>\n",
       "      <th>26</th>\n",
       "      <td>V27</td>\n",
       "      <td>1.036</td>\n",
       "    </tr>\n",
       "    <tr>\n",
       "      <th>27</th>\n",
       "      <td>V28</td>\n",
       "      <td>1.022</td>\n",
       "    </tr>\n",
       "    <tr>\n",
       "      <th>28</th>\n",
       "      <td>Amount</td>\n",
       "      <td>5.086</td>\n",
       "    </tr>\n",
       "    <tr>\n",
       "      <th>29</th>\n",
       "      <td>Class</td>\n",
       "      <td>2.763</td>\n",
       "    </tr>\n",
       "  </tbody>\n",
       "</table>\n",
       "</div>"
      ],
      "text/plain": [
       "   Columns   VIF\n",
       "0       V1 1.584\n",
       "1       V2 3.001\n",
       "2       V3 1.821\n",
       "3       V4 1.259\n",
       "4       V5 2.179\n",
       "5       V6 1.283\n",
       "6       V7 2.934\n",
       "7       V8 1.160\n",
       "8       V9 1.123\n",
       "9      V10 1.592\n",
       "10     V11 1.244\n",
       "11     V12 1.684\n",
       "12     V13 1.003\n",
       "13     V14 1.808\n",
       "14     V15 1.003\n",
       "15     V16 1.461\n",
       "16     V17 1.999\n",
       "17     V18 1.209\n",
       "18     V19 1.041\n",
       "19     V20 1.499\n",
       "20     V21 1.095\n",
       "21     V22 1.034\n",
       "22     V23 1.130\n",
       "23     V24 1.003\n",
       "24     V25 1.029\n",
       "25     V26 1.002\n",
       "26     V27 1.036\n",
       "27     V28 1.022\n",
       "28  Amount 5.086\n",
       "29   Class 2.763"
      ]
     },
     "execution_count": 51,
     "metadata": {},
     "output_type": "execute_result"
    }
   ],
   "source": [
    "def calculate_vif(data):\n",
    "    vif_df = pd.DataFrame()\n",
    "    vif_df[\"Columns\"] = data.columns\n",
    "    vif_df[\"VIF\"] = [variance_inflation_factor(data.values, i) for i in range(data.shape[1])]\n",
    "    return vif_df\n",
    "\n",
    "calculate_vif(data)"
   ]
  },
  {
   "cell_type": "markdown",
   "metadata": {},
   "source": [
    "### Train-Test Split"
   ]
  },
  {
   "cell_type": "code",
   "execution_count": 52,
   "metadata": {},
   "outputs": [
    {
     "name": "stdout",
     "output_type": "stream",
     "text": [
      "Shape of X_train: (21522, 29)\n",
      "Shape of X_test: (7174, 29)\n",
      "Shape of y_train: (21522,)\n",
      "Shape of y_test: (7174,)\n"
     ]
    }
   ],
   "source": [
    "X = data.drop(\"Class\", axis=\"columns\")\n",
    "y = data[\"Class\"]\n",
    "\n",
    "X_train, X_test, y_train, y_test = train_test_split(X, y, test_size=0.25, random_state=42)\n",
    "\n",
    "print(f\"Shape of X_train: {X_train.shape}\")\n",
    "print(f\"Shape of X_test: {X_test.shape}\")\n",
    "print(f\"Shape of y_train: {y_train.shape}\")\n",
    "print(f\"Shape of y_test: {y_test.shape}\")"
   ]
  },
  {
   "cell_type": "markdown",
   "metadata": {},
   "source": [
    "## Model Training"
   ]
  },
  {
   "cell_type": "markdown",
   "metadata": {},
   "source": [
    "#### Attempt 1\n",
    "\n",
    "1. Logistic Regression, RandomForest & XGB\n",
    "1. No handling of class imbalance"
   ]
  },
  {
   "cell_type": "code",
   "execution_count": 53,
   "metadata": {},
   "outputs": [
    {
     "name": "stdout",
     "output_type": "stream",
     "text": [
      "              precision    recall  f1-score   support\n",
      "\n",
      "           0       1.00      1.00      1.00      7052\n",
      "           1       0.97      0.84      0.90       122\n",
      "\n",
      "    accuracy                           1.00      7174\n",
      "   macro avg       0.98      0.92      0.95      7174\n",
      "weighted avg       1.00      1.00      1.00      7174\n",
      "\n"
     ]
    }
   ],
   "source": [
    "model = LogisticRegression()\n",
    "model.fit(X_train, y_train)\n",
    "\n",
    "y_pred = model.predict(X_test)\n",
    "report = classification_report(y_test, y_pred)\n",
    "print(f\"{report}\")"
   ]
  },
  {
   "cell_type": "code",
   "execution_count": 54,
   "metadata": {},
   "outputs": [
    {
     "data": {
      "image/png": "[encoded data removed]",
      "text/plain": [
       "<Figure size 800x800 with 1 Axes>"
      ]
     },
     "metadata": {},
     "output_type": "display_data"
    }
   ],
   "source": [
    "feature_importance = model.coef_[0]\n",
    "\n",
    "# Create a DataFrame for easier handling\n",
    "coef_df = pd.DataFrame(feature_importance, index=X_train.columns, columns=['Coefficients'])\n",
    "\n",
    "# Sort the coefficients for better visualization\n",
    "coef_df = coef_df.sort_values(by='Coefficients', ascending=True)\n",
    "\n",
    "# Plotting\n",
    "plt.figure(figsize=(8, 8))\n",
    "plt.barh(coef_df.index, coef_df['Coefficients'], color='steelblue')\n",
    "plt.xlabel('Coefficient Value')\n",
    "plt.title('Feature Importance in Logistic Regression')\n",
    "plt.show()"
   ]
  },
  {
   "cell_type": "code",
   "execution_count": 55,
   "metadata": {},
   "outputs": [
    {
     "name": "stdout",
     "output_type": "stream",
     "text": [
      "              precision    recall  f1-score   support\n",
      "\n",
      "           0       1.00      1.00      1.00      7052\n",
      "           1       0.99      0.88      0.93       122\n",
      "\n",
      "    accuracy                           1.00      7174\n",
      "   macro avg       0.99      0.94      0.96      7174\n",
      "weighted avg       1.00      1.00      1.00      7174\n",
      "\n"
     ]
    }
   ],
   "source": [
    "model = XGBClassifier()\n",
    "model.fit(X_train, y_train)\n",
    "\n",
    "y_pred = model.predict(X_test)\n",
    "report = classification_report(y_test, y_pred)\n",
    "print(f\"{report}\")"
   ]
  },
  {
   "cell_type": "code",
   "execution_count": 56,
   "metadata": {},
   "outputs": [
    {
     "name": "stdout",
     "output_type": "stream",
     "text": [
      "Fitting 3 folds for each of 10 candidates, totalling 30 fits\n",
      "Best Parameters: {'solver': 'newton-cg', 'C': 0.08858667904100823}\n",
      "Best Score: 0.8748930487895349\n",
      "Classification Report:\n",
      "              precision    recall  f1-score   support\n",
      "\n",
      "           0       1.00      1.00      1.00      7052\n",
      "           1       0.97      0.84      0.90       122\n",
      "\n",
      "    accuracy                           1.00      7174\n",
      "   macro avg       0.98      0.92      0.95      7174\n",
      "weighted avg       1.00      1.00      1.00      7174\n",
      "\n"
     ]
    }
   ],
   "source": [
    "param_dist = {\n",
    "    'C': np.logspace(-4, 4, 20),  # Logarithmically spaced values from 10^-4 to 10^4\n",
    "    'solver': ['lbfgs', 'saga', 'liblinear', 'newton-cg']   # Algorithm to use in the optimization problem\n",
    "}\n",
    "\n",
    "# Create the Logistic Regression model\n",
    "log_reg = LogisticRegression(max_iter=10000)  # Increased max_iter for convergence\n",
    "\n",
    "# Set up RandomizedSearchCV\n",
    "random_search = RandomizedSearchCV(\n",
    "    estimator=log_reg,\n",
    "    param_distributions=param_dist,\n",
    "    n_iter=10,  # Number of parameter settings that are sampled\n",
    "    scoring='f1',\n",
    "    cv=3,  # 5-fold cross-validation\n",
    "    verbose=2,\n",
    "    random_state=42,  # Set a random state for reproducibility\n",
    "    n_jobs=-1  # Use all available cores\n",
    ")\n",
    "\n",
    "# Fit the RandomizedSearchCV to the training data\n",
    "random_search.fit(X_train, y_train)\n",
    "\n",
    "# Print the best parameters and best score\n",
    "print(f\"Best Parameters: {random_search.best_params_}\")\n",
    "print(f\"Best Score: {random_search.best_score_}\")\n",
    "\n",
    "best_model = random_search.best_estimator_\n",
    "y_pred = best_model.predict(X_test)\n",
    "print(\"Classification Report:\")\n",
    "print(classification_report(y_test, y_pred))"
   ]
  },
  {
   "cell_type": "markdown",
   "metadata": {},
   "source": [
    "#### Attempt 2\n",
    "\n",
    "1. Logistic Regression & XGB\n",
    "1. Handle Class Imbalance Using Under Sampling"
   ]
  },
  {
   "cell_type": "code",
   "execution_count": 57,
   "metadata": {},
   "outputs": [
    {
     "data": {
      "text/plain": [
       "Class\n",
       "0    351\n",
       "1    351\n",
       "Name: count, dtype: int64"
      ]
     },
     "execution_count": 57,
     "metadata": {},
     "output_type": "execute_result"
    }
   ],
   "source": [
    "rus = RandomUnderSampler(random_state=42)\n",
    "X_train_rus, y_train_rus = rus.fit_resample(X_train, y_train)\n",
    "\n",
    "y_train_rus.value_counts()"
   ]
  },
  {
   "cell_type": "code",
   "execution_count": 58,
   "metadata": {},
   "outputs": [
    {
     "name": "stdout",
     "output_type": "stream",
     "text": [
      "              precision    recall  f1-score   support\n",
      "\n",
      "           0       1.00      0.97      0.98      7052\n",
      "           1       0.34      0.92      0.49       122\n",
      "\n",
      "    accuracy                           0.97      7174\n",
      "   macro avg       0.67      0.94      0.74      7174\n",
      "weighted avg       0.99      0.97      0.98      7174\n",
      "\n"
     ]
    }
   ],
   "source": [
    "model = LogisticRegression()\n",
    "model.fit(X_train_rus, y_train_rus)\n",
    "\n",
    "y_pred = model.predict(X_test)\n",
    "report = classification_report(y_test, y_pred)\n",
    "print(f\"{report}\")"
   ]
  },
  {
   "cell_type": "code",
   "execution_count": 59,
   "metadata": {},
   "outputs": [
    {
     "name": "stdout",
     "output_type": "stream",
     "text": [
      "              precision    recall  f1-score   support\n",
      "\n",
      "           0       1.00      0.96      0.98      7052\n",
      "           1       0.27      0.95      0.42       122\n",
      "\n",
      "    accuracy                           0.96      7174\n",
      "   macro avg       0.63      0.95      0.70      7174\n",
      "weighted avg       0.99      0.96      0.97      7174\n",
      "\n"
     ]
    }
   ],
   "source": [
    "model = XGBClassifier(**random_search.best_params_)\n",
    "model.fit(X_train_rus, y_train_rus)\n",
    "\n",
    "y_pred = model.predict(X_test)\n",
    "report = classification_report(y_test, y_pred)\n",
    "print(f\"{report}\")"
   ]
  },
  {
   "cell_type": "markdown",
   "metadata": {},
   "source": [
    "#### Attempt 3\n",
    "\n",
    "1. Logistic Regression\n",
    "1. Handle Class Imbalance Using SMOTE Tomek\n",
    "1. Parameter tunning using optuna"
   ]
  },
  {
   "cell_type": "code",
   "execution_count": 60,
   "metadata": {},
   "outputs": [
    {
     "data": {
      "text/plain": [
       "Class\n",
       "0    21171\n",
       "1    21171\n",
       "Name: count, dtype: int64"
      ]
     },
     "execution_count": 60,
     "metadata": {},
     "output_type": "execute_result"
    }
   ],
   "source": [
    "smt = SMOTETomek(random_state=42)\n",
    "X_train_smt, y_train_smt = smt.fit_resample(X_train, y_train)\n",
    "\n",
    "y_train_smt.value_counts()"
   ]
  },
  {
   "cell_type": "code",
   "execution_count": 61,
   "metadata": {},
   "outputs": [
    {
     "name": "stdout",
     "output_type": "stream",
     "text": [
      "              precision    recall  f1-score   support\n",
      "\n",
      "           0       1.00      0.98      0.99      7052\n",
      "           1       0.40      0.93      0.56       122\n",
      "\n",
      "    accuracy                           0.97      7174\n",
      "   macro avg       0.70      0.96      0.77      7174\n",
      "weighted avg       0.99      0.97      0.98      7174\n",
      "\n"
     ]
    }
   ],
   "source": [
    "model = LogisticRegression()\n",
    "model.fit(X_train_smt, y_train_smt)\n",
    "\n",
    "y_pred = model.predict(X_test)\n",
    "report = classification_report(y_test, y_pred)\n",
    "print(f\"{report}\")"
   ]
  },
  {
   "cell_type": "code",
   "execution_count": 62,
   "metadata": {},
   "outputs": [
    {
     "name": "stdout",
     "output_type": "stream",
     "text": [
      "              precision    recall  f1-score   support\n",
      "\n",
      "           0       1.00      1.00      1.00      7052\n",
      "           1       0.92      0.89      0.90       122\n",
      "\n",
      "    accuracy                           1.00      7174\n",
      "   macro avg       0.96      0.95      0.95      7174\n",
      "weighted avg       1.00      1.00      1.00      7174\n",
      "\n"
     ]
    }
   ],
   "source": [
    "model = XGBClassifier(**random_search.best_params_)\n",
    "model.fit(X_train_smt, y_train_smt)\n",
    "\n",
    "y_pred = model.predict(X_test)\n",
    "report = classification_report(y_test, y_pred)\n",
    "print(f\"{report}\")"
   ]
  },
  {
   "cell_type": "code",
   "execution_count": 63,
   "metadata": {},
   "outputs": [
    {
     "name": "stdout",
     "output_type": "stream",
     "text": [
      "Fitting 3 folds for each of 10 candidates, totalling 30 fits\n",
      "Best Parameters: {'solver': 'liblinear', 'C': 1438.44988828766}\n",
      "Best Score: 0.9407625871252154\n",
      "Classification Report:\n",
      "              precision    recall  f1-score   support\n",
      "\n",
      "           0       1.00      0.98      0.99      7052\n",
      "           1       0.40      0.93      0.56       122\n",
      "\n",
      "    accuracy                           0.97      7174\n",
      "   macro avg       0.70      0.96      0.77      7174\n",
      "weighted avg       0.99      0.97      0.98      7174\n",
      "\n"
     ]
    }
   ],
   "source": [
    "# RandomizedSearch CV for Attempt 1: Logistic Regression\n",
    "\n",
    "param_dist = {\n",
    "    'C': np.logspace(-4, 4, 20),  # Logarithmically spaced values from 10^-4 to 10^4\n",
    "    'solver': ['lbfgs', 'saga', 'liblinear', 'newton-cg']   # Algorithm to use in the optimization problem\n",
    "}\n",
    "\n",
    "# Create the Logistic Regression model\n",
    "log_reg = LogisticRegression(max_iter=10000)  # Increased max_iter for convergence\n",
    "\n",
    "# Set up RandomizedSearchCV\n",
    "random_search = RandomizedSearchCV(\n",
    "    estimator=log_reg,\n",
    "    param_distributions=param_dist,\n",
    "    n_iter=10,  # Number of parameter settings that are sampled\n",
    "    scoring='f1',\n",
    "    cv=3,  # 5-fold cross-validation\n",
    "    verbose=2,\n",
    "    random_state=42,  # Set a random state for reproducibility\n",
    "    n_jobs=-1  # Use all available cores\n",
    ")\n",
    "\n",
    "# Fit the RandomizedSearchCV to the training data\n",
    "random_search.fit(X_train_smt, y_train_smt)\n",
    "\n",
    "# Print the best parameters and best score\n",
    "print(f\"Best Parameters: {random_search.best_params_}\")\n",
    "print(f\"Best Score: {random_search.best_score_}\")\n",
    "\n",
    "best_model = random_search.best_estimator_\n",
    "y_pred = best_model.predict(X_test)\n",
    "print(\"Classification Report:\")\n",
    "print(classification_report(y_test, y_pred))"
   ]
  },
  {
   "cell_type": "markdown",
   "metadata": {},
   "source": [
    "#### Model Evaluation : ROC/AUC"
   ]
  },
  {
   "cell_type": "code",
   "execution_count": 64,
   "metadata": {},
   "outputs": [
    {
     "data": {
      "text/plain": [
       "(array([0.       , 0.       , 0.       , 0.       , 0.0001418]),\n",
       " array([0.        , 0.28688525, 0.31967213, 0.55737705, 0.55737705]),\n",
       " array([2., 1., 1., 1., 1.]))"
      ]
     },
     "execution_count": 64,
     "metadata": {},
     "output_type": "execute_result"
    }
   ],
   "source": [
    "probabilities = best_model.predict_proba(X_test)[:,1]\n",
    "\n",
    "fpr, tpr, thresholds = roc_curve(y_test, probabilities)\n",
    "fpr[:5], tpr[:5], thresholds[:5]"
   ]
  },
  {
   "cell_type": "code",
   "execution_count": 65,
   "metadata": {},
   "outputs": [
    {
     "data": {
      "text/plain": [
       "0.9886987065638861"
      ]
     },
     "execution_count": 65,
     "metadata": {},
     "output_type": "execute_result"
    }
   ],
   "source": [
    "area = auc(fpr, tpr)\n",
    "area"
   ]
  },
  {
   "cell_type": "code",
   "execution_count": 66,
   "metadata": {},
   "outputs": [
    {
     "data": {
      "image/png": "[encoded data removed]",
      "text/plain": [
       "<Figure size 640x480 with 1 Axes>"
      ]
     },
     "metadata": {},
     "output_type": "display_data"
    }
   ],
   "source": [
    "plt.figure()\n",
    "plt.plot(fpr, tpr, color='darkorange', lw=2, label='ROC curve (area = %0.2f)' % area)\n",
    "plt.plot([0, 1], [0, 1], color='navy', lw=2, linestyle='--')\n",
    "plt.xlim([0.0, 1.0])\n",
    "plt.ylim([0.0, 1.05])\n",
    "plt.xlabel('False Positive Rate')\n",
    "plt.ylabel('True Positive Rate')\n",
    "plt.title('Receiver Operating Characteristic')\n",
    "plt.legend(loc=\"lower right\")\n",
    "plt.show()"
   ]
  },
  {
   "cell_type": "code",
   "execution_count": 67,
   "metadata": {},
   "outputs": [
    {
     "name": "stdout",
     "output_type": "stream",
     "text": [
      "AUC: 0.9886987065638861\n",
      "Gini Coefficient: 0.9773974131277723\n"
     ]
    }
   ],
   "source": [
    "gini_coefficient = 2 * area - 1\n",
    "\n",
    "print(\"AUC:\", area)\n",
    "print(\"Gini Coefficient:\", gini_coefficient)"
   ]
  },
  {
   "cell_type": "markdown",
   "metadata": {},
   "source": [
    "- AUC of 0.98: The model is very good at distinguishing between 0 & 1.\n",
    "\n",
    "- Gini coefficient of 0.97: This further confirms that the model is highly effective in its predictions\n",
    "\n",
    "- The Gini coefficient ranges from -1 to 1, where a value closer to 1 signifies a perfect model, 0 indicates a model with no discriminative power, and -1 signifies a perfectly incorrect model."
   ]
  },
  {
   "cell_type": "markdown",
   "metadata": {},
   "source": [
    "#### Finalize The Model and Visualize Feature Importance"
   ]
  },
  {
   "cell_type": "code",
   "execution_count": 68,
   "metadata": {},
   "outputs": [
    {
     "data": {
      "image/png": "[encoded data removed]",
      "text/plain": [
       "<Figure size 800x800 with 1 Axes>"
      ]
     },
     "metadata": {},
     "output_type": "display_data"
    }
   ],
   "source": [
    "final_model = best_model\n",
    "\n",
    "feature_importance = final_model.coef_[0]\n",
    "\n",
    "# Create a DataFrame for easier handling\n",
    "coef_df = pd.DataFrame(feature_importance, index=X_train.columns, columns=['Coefficients'])\n",
    "\n",
    "# Sort the coefficients for better visualization\n",
    "coef_df = coef_df.sort_values(by='Coefficients', ascending=True)\n",
    "\n",
    "# Plotting\n",
    "plt.figure(figsize=(8, 8))\n",
    "plt.barh(coef_df.index, coef_df['Coefficients'], color='steelblue')\n",
    "plt.xlabel('Coefficient Value')\n",
    "plt.title('Feature Importance in Logistic Regression')\n",
    "plt.show()"
   ]
  }
 ],
 "metadata": {
  "kernelspec": {
   "display_name": "base",
   "language": "python",
   "name": "python3"
  },
  "language_info": {
   "codemirror_mode": {
    "name": "ipython",
    "version": 3
   },
   "file_extension": ".py",
   "mimetype": "text/x-python",
   "name": "python",
   "nbconvert_exporter": "python",
   "pygments_lexer": "ipython3",
   "version": "3.11.7"
  }
 },
 "nbformat": 4,
 "nbformat_minor": 2
}
